{
 "cells": [
  {
   "cell_type": "raw",
   "id": "5ea802e7-77c1-412c-88b4-a1824cb7af2d",
   "metadata": {},
   "source": [
    "1. Write a Python program to print numbers from 1 to 10 using a for loop."
   ]
  },
  {
   "cell_type": "code",
   "execution_count": 3,
   "id": "b66ce400-340c-43d7-9c84-b2e72e536cd0",
   "metadata": {},
   "outputs": [
    {
     "name": "stdout",
     "output_type": "stream",
     "text": [
      "1\n",
      "2\n",
      "3\n",
      "4\n",
      "5\n",
      "6\n",
      "7\n",
      "8\n",
      "9\n",
      "10\n"
     ]
    }
   ],
   "source": [
    "for i in range(1,11):\n",
    " print(i)"
   ]
  },
  {
   "cell_type": "raw",
   "id": "eedab7f3-7df1-4824-ba29-b9b359f325ef",
   "metadata": {},
   "source": [
    "2. Explain the difference between a for loop and a while loop in Python."
   ]
  },
  {
   "cell_type": "raw",
   "id": "953c4d6a-9ce7-4c75-8e4e-8960e8d906f2",
   "metadata": {},
   "source": [
    "A for 'loop' iterates over a predefined sequence in Python, executing a block of code for each element. \n",
    "In contrast, a 'while' loop repeatedly executes a block of code as long as a specified condition holds true,\n",
    "making it suitable for scenarios where the number of iterations isn't predetermined.\n",
    "'for' loops are ideal for known sequences, while 'while' loops are suitable for dynamic conditions."
   ]
  },
  {
   "cell_type": "raw",
   "id": "eacc5f8c-dbd8-4f40-9437-1b03c54a2714",
   "metadata": {},
   "source": [
    "3. Write a Python program to calculate the sum of all numbers from 1 to 100 using a for loop."
   ]
  },
  {
   "cell_type": "code",
   "execution_count": null,
   "id": "7e220730-85e2-4a97-9007-96be6f36a2fb",
   "metadata": {},
   "outputs": [],
   "source": [
    "sumations = 0\n",
    "for i in range (1,101):\n",
    "    sumations+=i\n",
    "print(sumations)"
   ]
  },
  {
   "cell_type": "raw",
   "id": "5421febd-733f-464d-b9ef-f640d134c8bc",
   "metadata": {},
   "source": [
    "4. How do you iterate through a list using a for loop in Python?"
   ]
  },
  {
   "cell_type": "raw",
   "id": "675a9d7f-8f1b-4432-befb-a7a88e6b88cd",
   "metadata": {},
   "source": [
    "To iterate through a list in Python using a 'for' loop, specify the list variable followed by 'for', then a temporary variable to represent each element, and the keyword 'in' followed by the list itself. Inside the loop, you can process each element using the temporary variable. "
   ]
  },
  {
   "cell_type": "raw",
   "id": "14ccd131-7979-49d2-afb9-9dfd670d6c18",
   "metadata": {},
   "source": [
    "5. Write a Python program to find the product of all elements in a list using a for loop.\n"
   ]
  },
  {
   "cell_type": "code",
   "execution_count": 1,
   "id": "91d99363-7a00-4bb0-8ce3-40629a64d989",
   "metadata": {},
   "outputs": [
    {
     "name": "stdout",
     "output_type": "stream",
     "text": [
      "362880\n"
     ]
    }
   ],
   "source": [
    "my_list = [1,2,3,4,5,6,7,8,9]\n",
    "product_element = 1\n",
    "for i in my_list:\n",
    "    product_element*=i\n",
    "print(product_element)"
   ]
  },
  {
   "cell_type": "raw",
   "id": "6dd65825-ed8c-4613-8a8a-b4942b8b7b88",
   "metadata": {},
   "source": [
    "6. Create a Python program that prints all even numbers from 1 to 20 using a for loop."
   ]
  },
  {
   "cell_type": "code",
   "execution_count": 2,
   "id": "edf52942-45b5-4dfa-bfd6-c7706484d300",
   "metadata": {},
   "outputs": [
    {
     "name": "stdout",
     "output_type": "stream",
     "text": [
      "[2, 4, 6, 8, 10, 12, 14, 16, 18, 20]\n"
     ]
    }
   ],
   "source": [
    "my_list = []\n",
    "for i in range (1,21):\n",
    "    if i %2 ==0:\n",
    "        my_list.append(i)\n",
    "print(my_list)"
   ]
  },
  {
   "cell_type": "raw",
   "id": "0ba9b078-3ec3-4d65-abea-d318b419e512",
   "metadata": {},
   "source": [
    "7. Write a Python program that calculates the factorial of a number using a for loop."
   ]
  },
  {
   "cell_type": "code",
   "execution_count": 3,
   "id": "7cb2b25d-a185-4d12-aab3-fd1cdb6b5bf6",
   "metadata": {},
   "outputs": [
    {
     "name": "stdin",
     "output_type": "stream",
     "text": [
      "Enter the number:  7\n"
     ]
    },
    {
     "name": "stdout",
     "output_type": "stream",
     "text": [
      "5040\n"
     ]
    }
   ],
   "source": [
    "number = int(input('Enter the number: '))\n",
    "factorial_number = 1  \n",
    "for i in range (1,number+1):\n",
    "  factorial_number*=i\n",
    "print(factorial_number)"
   ]
  },
  {
   "cell_type": "raw",
   "id": "13ec884c-11e6-4077-8e83-96a192fb462a",
   "metadata": {},
   "source": [
    "8. How can you iterate through the characters of a string using a for loop in Python?"
   ]
  },
  {
   "cell_type": "raw",
   "id": "7a82cd13-ccc4-40ca-b9da-e27bd6ad361a",
   "metadata": {},
   "source": [
    "To iterate through the characters of a string in Python, define the string. Then, use a 'for' loop with a temporary variable to represent each character, followed by the keyword 'in' and the string itself. Inside the loop, you can process each character using the temporary variable. For example:\n",
    "\n",
    "my_string = \"Hello\"\n",
    "for char in my_string:\n",
    "    print(char)  \n"
   ]
  },
  {
   "cell_type": "raw",
   "id": "90a59b7e-2bdd-4dd3-81b6-e4837a82034d",
   "metadata": {},
   "source": [
    "9.Write a Python program to find the largest number in a list using a for loop."
   ]
  },
  {
   "cell_type": "code",
   "execution_count": null,
   "id": "0a065940-b6df-4e47-9f4d-975bb2164369",
   "metadata": {},
   "outputs": [],
   "source": [
    "my_List = [2,5,8,9,56,54,3,45,32,67,45,34]\n",
    "my_number = 0\n",
    "for i in my_List:\n",
    "    if i>my_number:\n",
    "        my_number =i\n",
    "print(\"The max number is:\",my_number)"
   ]
  },
  {
   "cell_type": "raw",
   "id": "dd69e5d3-f01d-48e8-a3a2-1bf5bed4e02a",
   "metadata": {},
   "source": [
    "10. Create a Python program that prints the Fibonacci sequence up to a specified limit using a for loop."
   ]
  },
  {
   "cell_type": "code",
   "execution_count": 4,
   "id": "495d04b0-9b63-4df8-a6f1-26d2b1e56fed",
   "metadata": {},
   "outputs": [
    {
     "name": "stdout",
     "output_type": "stream",
     "text": [
      "[0, 1, 1, 2, 3, 5, 8, 13, 21, 34]\n"
     ]
    }
   ],
   "source": [
    "Fibonacci_length = 10\n",
    "my_list =[]\n",
    "previous_number = 0\n",
    "new_number =1\n",
    "for i in range (1, Fibonacci_length+1):\n",
    " my_list.append(previous_number)\n",
    " previous_number,new_number = new_number, previous_number+new_number\n",
    "\n",
    "\n",
    "print(my_list)"
   ]
  },
  {
   "cell_type": "raw",
   "id": "0ace411b-3848-48b5-83f0-d3f16f56e326",
   "metadata": {},
   "source": [
    "11. Write a Python program to count the number of vowels in a given string using a for loop."
   ]
  },
  {
   "cell_type": "code",
   "execution_count": 5,
   "id": "8558a575-3710-4ef7-8e06-3dd6cb41e526",
   "metadata": {},
   "outputs": [
    {
     "name": "stdout",
     "output_type": "stream",
     "text": [
      "['I', 'a', 'e', 'a', 'i', 'o']\n"
     ]
    }
   ],
   "source": [
    "my_string = 'I am learning Python'\n",
    "my_vowels = 'aeiouAEIOU'\n",
    "my_list =[]\n",
    "for i in my_string:\n",
    " for j in my_vowels:\n",
    "  if i == j:\n",
    "   my_list.append(i)\n",
    "\n",
    "print(my_list)"
   ]
  },
  {
   "cell_type": "raw",
   "id": "bfc55497-529d-4b66-b190-7c60f949a7c4",
   "metadata": {},
   "source": [
    "12. Create a Python program that generates a multiplication table for a given number using a for loop."
   ]
  },
  {
   "cell_type": "code",
   "execution_count": 6,
   "id": "f2efa33c-953c-4328-9801-7b25415cd098",
   "metadata": {},
   "outputs": [
    {
     "name": "stdin",
     "output_type": "stream",
     "text": [
      "Enter the number:  8\n"
     ]
    },
    {
     "name": "stdout",
     "output_type": "stream",
     "text": [
      "8 X 1 = 8\n",
      "8 X 2 = 16\n",
      "8 X 3 = 24\n",
      "8 X 4 = 32\n",
      "8 X 5 = 40\n",
      "8 X 6 = 48\n",
      "8 X 7 = 56\n",
      "8 X 8 = 64\n",
      "8 X 9 = 72\n",
      "8 X 10 = 80\n"
     ]
    }
   ],
   "source": [
    "number = int(input('Enter the number: '))\n",
    "for i in range (1,11):\n",
    "    print(f'{number} X {i} = {number*i}')"
   ]
  },
  {
   "cell_type": "raw",
   "id": "b50398de-8864-4ea7-bdc6-5af7124c2ac5",
   "metadata": {},
   "source": [
    "13. Write a Python program to reverse a list using a for loop."
   ]
  },
  {
   "cell_type": "code",
   "execution_count": 7,
   "id": "536e257f-1652-4ba4-9eef-94f702393cef",
   "metadata": {},
   "outputs": [
    {
     "name": "stdout",
     "output_type": "stream",
     "text": [
      "[10, 9, 8, 7, 6, 5, 4, 3, 2, 1]\n"
     ]
    }
   ],
   "source": [
    "my_list = [1,2,3,4,5,6,7,8,9,10]\n",
    "new_list = []\n",
    "for i in my_list[::-1]:\n",
    "    new_list.append(i)\n",
    "print(new_list)"
   ]
  },
  {
   "cell_type": "raw",
   "id": "2313b0f1-b287-4c09-bc72-65815bd17b9d",
   "metadata": {},
   "source": [
    "14. Write a Python program to find the common elements between two lists using a for loop."
   ]
  },
  {
   "cell_type": "code",
   "execution_count": 8,
   "id": "63d296b0-2958-4578-b784-867da3ba43a6",
   "metadata": {},
   "outputs": [
    {
     "name": "stdout",
     "output_type": "stream",
     "text": [
      "[6, 7, 8, 9, 10]\n"
     ]
    }
   ],
   "source": [
    "list1 = [1,2,3,4,5,6,7,8,9,10]\n",
    "list2 = [6,7,8,9,10,11,12,13,14]\n",
    "new_list =[]\n",
    "for i in list1:\n",
    "    for j in list2:\n",
    "        if i ==j:\n",
    "            new_list.append(i)\n",
    "print(new_list)"
   ]
  },
  {
   "cell_type": "raw",
   "id": "c754539b-32fb-405f-bc8b-09503b2051a4",
   "metadata": {},
   "source": [
    "15. Explain how to use a for loop to iterate through the keys and values of a dictionary in Python.\n"
   ]
  },
  {
   "cell_type": "raw",
   "id": "61224d7b-0376-4b51-974b-b67021fd2cb9",
   "metadata": {},
   "source": [
    "To iterate through the keys and values of a dictionary in Python, use a 'for' loop with two temporary variables, one for keys and one for values, employing the 'items()' method of the dictionary. Inside the loop, each iteration assigns both the key and value to the respective temporary variables for processing. For instance:\n",
    "\n",
    "my_dict = {'a': 1, 'b': 2, 'c': 3}\n",
    "for key, value in my_dict.items():\n",
    "    print(key, value)  "
   ]
  },
  {
   "cell_type": "raw",
   "id": "4f164034-7589-4cf1-8ee8-d18fe226eab0",
   "metadata": {},
   "source": [
    "16. Write a Python program to find the GCD (Greatest Common Divisor) of two numbers using a for loop."
   ]
  },
  {
   "cell_type": "code",
   "execution_count": 9,
   "id": "9f11b209-e44d-41d1-9946-a4de1a2f5023",
   "metadata": {},
   "outputs": [
    {
     "name": "stdout",
     "output_type": "stream",
     "text": [
      "Max number is: 8\n"
     ]
    }
   ],
   "source": [
    "num1 = 56\n",
    "num2 = 72\n",
    "num1_list = []\n",
    "num2_list = []\n",
    "max_number = []\n",
    "for i in range (1, 29):\n",
    "    if num1%i ==0:\n",
    "        num1_list.append(i)\n",
    "for i in range (1, 29):\n",
    "    if num2%i ==0:\n",
    "        num2_list.append(i)\n",
    "\n",
    "\n",
    "for i in num1_list[::-1]:\n",
    "    for j in num2_list[::-1]:\n",
    "        if i==j:\n",
    "            max_number.append(i)\n",
    "            break\n",
    "\n",
    "\n",
    "print('Max number is:',max(max_number))\n"
   ]
  },
  {
   "cell_type": "raw",
   "id": "4220c794-efab-424a-8506-eab15353e6b2",
   "metadata": {},
   "source": [
    "17. Create a Python program that checks if a string is a palindrome using a for loop."
   ]
  },
  {
   "cell_type": "code",
   "execution_count": 10,
   "id": "2bf9b774-e714-4d81-a365-9975ccc5bc57",
   "metadata": {},
   "outputs": [
    {
     "name": "stdout",
     "output_type": "stream",
     "text": [
      "Yes, string is palindrome\n"
     ]
    }
   ],
   "source": [
    "string1 = 'mlm'\n",
    "my_list = []\n",
    "for i in string1[::-1]:\n",
    " my_list.append(i)\n",
    "\n",
    "if \"\".join(my_list)== string1:\n",
    " print(\"Yes, string is palindrome.\")\n",
    "else:\n",
    " print(\"No, string is not palindrome.\")"
   ]
  },
  {
   "cell_type": "raw",
   "id": "a8a6f373-fbf3-4fe3-a96c-7d0a87dbfb4e",
   "metadata": {},
   "source": [
    "18. Write a Python program to remove duplicates from a list using a for loop."
   ]
  },
  {
   "cell_type": "code",
   "execution_count": 11,
   "id": "2776246f-f937-4e02-930d-cdfe9a60c028",
   "metadata": {},
   "outputs": [
    {
     "name": "stdout",
     "output_type": "stream",
     "text": [
      "[1, 2, 3, 4, 5, 6, 7, 8]\n"
     ]
    }
   ],
   "source": [
    "my_list = [1,2,3,4,5,6,7,7,8,8,8,7,7,7,5,6,4,3]\n",
    "new_list = []\n",
    "for i in my_list:\n",
    " if i not in new_list:\n",
    "   new_list.append(i)\n",
    "\n",
    "print(new_list)"
   ]
  },
  {
   "cell_type": "raw",
   "id": "0d4c5013-710c-465a-83b5-caf841d9be61",
   "metadata": {},
   "source": [
    "19. Create a Python program that counts the number of words in a sentence using a for loop."
   ]
  },
  {
   "cell_type": "code",
   "execution_count": null,
   "id": "6973f440-2198-4445-9bd4-fbcc0c09c1c9",
   "metadata": {},
   "outputs": [],
   "source": [
    "my_string = 'I am learning python since 4 months'\n",
    "my_list = my_string.split()\n",
    "count = 0\n",
    "for i in my_list:\n",
    " count+=1\n",
    "\n",
    "print(\"Length of sentence is:\",count)"
   ]
  },
  {
   "cell_type": "raw",
   "id": "4cd61fbe-0c6a-44db-87d0-02cdfb8676a3",
   "metadata": {},
   "source": [
    "20. Write a Python program to find the sum of all odd numbers from 1 to 50 using a for loop."
   ]
  },
  {
   "cell_type": "code",
   "execution_count": null,
   "id": "d4a431ed-0894-4633-a76e-f3c09190c567",
   "metadata": {},
   "outputs": [],
   "source": [
    "count =0\n",
    "for i in range(1,51):\n",
    "    if i % 2 != 0:\n",
    "        count+=i\n",
    "print(count)"
   ]
  },
  {
   "cell_type": "raw",
   "id": "67182f3e-11a9-497d-9212-b313c1669674",
   "metadata": {},
   "source": [
    "21. Write a Python program that checks if a given year is a leap year using a for loop."
   ]
  },
  {
   "cell_type": "code",
   "execution_count": 12,
   "id": "785e936c-3719-482c-8d4a-ca5f042c5296",
   "metadata": {},
   "outputs": [
    {
     "name": "stdin",
     "output_type": "stream",
     "text": [
      "Enter the year:  2000\n"
     ]
    },
    {
     "name": "stdout",
     "output_type": "stream",
     "text": [
      "Yes, the year 2000 is leap year.\n"
     ]
    }
   ],
   "source": [
    "year = int(input(\"Enter the year: \"))\n",
    "if year%4 ==0:\n",
    "    print(f\"Yes, the year {year} is leap year.\")\n",
    "else:\n",
    "    print(f\"No, the year {year} is not leap year.\")"
   ]
  },
  {
   "cell_type": "raw",
   "id": "67ea9008-7cab-4132-8838-05fdac30385d",
   "metadata": {},
   "source": [
    "22. Create a Python program that calculates the square root of a number using a for loop."
   ]
  },
  {
   "cell_type": "code",
   "execution_count": null,
   "id": "97801f22-a8d4-42fe-8192-40c4d2923371",
   "metadata": {},
   "outputs": [],
   "source": [
    "number = float(input(\"Enter a number: \"))\n",
    "approx_root = number / 2\n",
    "\n",
    "for i in range(10):\n",
    "    approx_root = (approx_root + number / approx_root) / 2\n",
    "\n",
    "print(\"Square root of\", number, \"is approximately\", approx_root)"
   ]
  },
  {
   "cell_type": "raw",
   "id": "146f7b6d-3216-490d-8c32-fee47191509d",
   "metadata": {},
   "source": [
    "23. Write a Python program to find the LCM (Least Common Multiple) of two numbers using a for loop."
   ]
  },
  {
   "cell_type": "code",
   "execution_count": 16,
   "id": "cbe62c0f-3d27-4135-a73d-9f404af8cc2d",
   "metadata": {},
   "outputs": [
    {
     "name": "stdout",
     "output_type": "stream",
     "text": [
      "Minimum number is: 3\n"
     ]
    }
   ],
   "source": [
    "num1 = 75\n",
    "num2 = 48\n",
    "num1_list = []\n",
    "num2_list = []\n",
    "min_number = []\n",
    "for i in range (2, 29):\n",
    "    if num1%i ==0:\n",
    "        num1_list.append(i)\n",
    "for i in range (2, 29):\n",
    "    if num2%i ==0:\n",
    "        num2_list.append(i)\n",
    "\n",
    "\n",
    "for i in num1_list:\n",
    "    for j in num2_list:\n",
    "        if i==j:\n",
    "            min_number.append(i)\n",
    "            break\n",
    "\n",
    "\n",
    "print('Minimum number is:',min(min_number))"
   ]
  },
  {
   "cell_type": "raw",
   "id": "5b8c8e32-0f34-4716-bda5-6dcc9c53781d",
   "metadata": {},
   "source": [
    "If else :"
   ]
  },
  {
   "cell_type": "raw",
   "id": "b4715f3c-3b21-4e27-a020-544e743a87b3",
   "metadata": {},
   "source": [
    "1. Write a Python program to check if a number is positive, negative, or zero using an if-else statement."
   ]
  },
  {
   "cell_type": "code",
   "execution_count": null,
   "id": "b19f2e33-5e48-4964-a5d9-014c6fc37fc2",
   "metadata": {},
   "outputs": [],
   "source": [
    "number = int(input(\"Enter the number: \"))\n",
    "\n",
    "if number<0:\n",
    "    print(\"Number is negative\")\n",
    "elif (number==0):\n",
    "    print(\"Number is Zero\")\n",
    "else:\n",
    "    print(\"Number is Positive\")"
   ]
  },
  {
   "cell_type": "raw",
   "id": "347096ea-8a5c-4bb2-9532-2d4e1e924b4f",
   "metadata": {},
   "source": [
    "2. Create a Python program that checks if a given number is even or odd using an if-else statement."
   ]
  },
  {
   "cell_type": "code",
   "execution_count": 19,
   "id": "330af342-9637-4a7f-ade3-a957bea1df0a",
   "metadata": {},
   "outputs": [
    {
     "name": "stdin",
     "output_type": "stream",
     "text": [
      "Enter the number:  8\n"
     ]
    },
    {
     "name": "stdout",
     "output_type": "stream",
     "text": [
      "Number is Even\n"
     ]
    }
   ],
   "source": [
    "number = int(input(\"Enter the number: \"))\n",
    "\n",
    "if number ==0:\n",
    "    print(\"Number is Zero\")\n",
    "elif number %2 == 0:\n",
    "    print(\"Number is Even\")\n",
    "else:\n",
    "    print(\"Number is Odd\")"
   ]
  },
  {
   "cell_type": "raw",
   "id": "a0fee7c1-9e6b-4dc8-b07e-37c1f4325a08",
   "metadata": {},
   "source": [
    "3. How can you use nested if-else statements in Python, and provide an example?\n"
   ]
  },
  {
   "cell_type": "raw",
   "id": "c1d81046-9835-4d46-bc68-26c899491ed0",
   "metadata": {},
   "source": [
    "Nested if-else statements in Python involve placing one if-else statement within another if or else block. This allows for conditional branching based on multiple conditions.\n",
    "\n",
    "Example:\n",
    "x = 10\n",
    "if x > 0:\n",
    "    if x % 2 == 0:\n",
    "        print(\"x is a positive even number.\")\n",
    "    else:\n",
    "        print(\"x is a positive odd number.\")\n",
    "else:\n",
    "    print(\"x is non-positive.\")\n"
   ]
  },
  {
   "cell_type": "raw",
   "id": "3a2801c1-faa5-4f39-8554-0927d8791f84",
   "metadata": {},
   "source": [
    "4. Write a Python program to determine the largest of three numbers using if-else.\n"
   ]
  },
  {
   "cell_type": "code",
   "execution_count": 20,
   "id": "648711c5-b962-45d1-91c5-900645c4ae33",
   "metadata": {},
   "outputs": [
    {
     "name": "stdin",
     "output_type": "stream",
     "text": [
      "Enter first number:  4\n",
      "Enter second number:  5\n",
      "Enter third number:  6\n"
     ]
    },
    {
     "name": "stdout",
     "output_type": "stream",
     "text": [
      "The largest number is: 6.0\n"
     ]
    }
   ],
   "source": [
    "num1 = float(input(\"Enter first number: \"))\n",
    "num2 = float(input(\"Enter second number: \"))\n",
    "num3 = float(input(\"Enter third number: \"))\n",
    "\n",
    "if num1 >= num2 and num1 >= num3:\n",
    "    largest = num1\n",
    "elif num2 >= num1 and num2 >= num3:\n",
    "    largest = num2\n",
    "else:\n",
    "    largest = num3\n",
    "\n",
    "print(\"The largest number is:\", largest)\n"
   ]
  },
  {
   "cell_type": "raw",
   "id": "023e714e-284a-459f-bd7b-51678aa33c11",
   "metadata": {},
   "source": [
    "5.Write a Python program that calculates the absolute value of a number using if-else."
   ]
  },
  {
   "cell_type": "code",
   "execution_count": null,
   "id": "6621ab6d-ccaf-42cc-96d1-5fa442987003",
   "metadata": {},
   "outputs": [],
   "source": [
    "num = float(input(\"Enter a number: \"))\n",
    "if num >= 0:\n",
    "    abs_value = num\n",
    "else:\n",
    "    abs_value = -num\n",
    "\n",
    "print(\"The absolute value of\", num, \"is\", abs_value)\n"
   ]
  },
  {
   "cell_type": "raw",
   "id": "ad61ccab-5e9a-4d6e-a7a2-9406d8a6df89",
   "metadata": {},
   "source": [
    "6. Create a Python program that checks if a given character is a vowel or consonant using if-else."
   ]
  },
  {
   "cell_type": "code",
   "execution_count": null,
   "id": "5778bafb-fbd8-4293-be6f-c4351a8b1ec6",
   "metadata": {},
   "outputs": [],
   "source": [
    " character = input(\"Enter the character: \")\n",
    "vowels = 'AEIOUaeiou'\n",
    "if character in vowels:\n",
    " print(\"Character is vowel!\")\n",
    "else:\n",
    " print('Character is consonant')"
   ]
  },
  {
   "cell_type": "raw",
   "id": "256a2fd5-c3de-44bf-870b-c9e09c7e8834",
   "metadata": {},
   "source": [
    "7. Write a Python program to determine if a user is eligible to vote based on their age using if-else."
   ]
  },
  {
   "cell_type": "code",
   "execution_count": null,
   "id": "e9f13f68-4230-4334-a05f-85c0670af7dc",
   "metadata": {},
   "outputs": [],
   "source": [
    "age = int(input(\"Enter your age: \"))\n",
    "\n",
    "if age >= 18:\n",
    "    print(\"You are eligible to vote.\")\n",
    "else:\n",
    "    print(\"You are not eligible to vote yet.\")\n"
   ]
  },
  {
   "cell_type": "raw",
   "id": "bd040b15-c2e4-4ed7-83b4-823a9e6b0fee",
   "metadata": {},
   "source": [
    "8. Create a Python program that calculates the discount amount based on the purchase amount using if-else."
   ]
  },
  {
   "cell_type": "code",
   "execution_count": 1,
   "id": "6a86c2ef-2f62-4ddc-b513-4288ad0d88b1",
   "metadata": {},
   "outputs": [
    {
     "name": "stdin",
     "output_type": "stream",
     "text": [
      "Enter the purchase amount:  500\n"
     ]
    },
    {
     "name": "stdout",
     "output_type": "stream",
     "text": [
      "Discount amount: 25.0\n"
     ]
    }
   ],
   "source": [
    "purchase_amount = float(input(\"Enter the purchase amount: \"))\n",
    "\n",
    "if purchase_amount >= 1000:\n",
    "    discount_rate = 0.1\n",
    "elif purchase_amount >= 500:\n",
    "    discount_rate = 0.05\n",
    "else:\n",
    "    discount_rate = 0\n",
    "\n",
    "discount_amount = purchase_amount * discount_rate\n",
    "\n",
    "print(\"Discount amount:\", discount_amount)\n"
   ]
  },
  {
   "cell_type": "raw",
   "id": "df805e48-5d1f-4569-bf40-e121a04e2f6b",
   "metadata": {},
   "source": [
    "9. Write a Python program to check if a number is within a specified range using if-else."
   ]
  },
  {
   "cell_type": "code",
   "execution_count": 3,
   "id": "7670ac57-120c-4833-9edb-a1aebb410db1",
   "metadata": {},
   "outputs": [
    {
     "name": "stdout",
     "output_type": "stream",
     "text": [
      "Yes! 46 is in range between 1 to 50\n"
     ]
    }
   ],
   "source": [
    "number = 46\n",
    "if number in range (1,51):\n",
    "    print(f\"Yes! {number} is in range between 1 to 50\")\n",
    "else:\n",
    "    print(f\"{number} is not in range between 1 to 50\")"
   ]
  },
  {
   "cell_type": "raw",
   "id": "7e4c66e1-40f1-4dce-a3ed-f75430cb68a8",
   "metadata": {},
   "source": [
    "10. Create a Python program that determines the grade of a student based on their score using if-else."
   ]
  },
  {
   "cell_type": "code",
   "execution_count": null,
   "id": "27f06829-c9df-4a3b-8100-060e81b96db5",
   "metadata": {},
   "outputs": [],
   "source": [
    "score = float(input(\"Enter the student's score: \"))\n",
    "\n",
    "if score >= 90:\n",
    "    grade = 'A'\n",
    "elif score >= 80:\n",
    "    grade = 'B'\n",
    "elif score >= 70:\n",
    "    grade = 'C'\n",
    "elif score >= 60:\n",
    "    grade = 'D'\n",
    "else:\n",
    "    grade = 'F'\n",
    "\n",
    "print(\"The student's grade is:\", grade)"
   ]
  },
  {
   "cell_type": "raw",
   "id": "9582d715-754d-4a89-8474-7180ddd66bc3",
   "metadata": {},
   "source": [
    "11. Write a Python program to check if a string is empty or not using if-else."
   ]
  },
  {
   "cell_type": "code",
   "execution_count": null,
   "id": "593b7700-5827-4030-9223-fdbdf9147b48",
   "metadata": {},
   "outputs": [],
   "source": [
    "string = input(\"Enter a string: \")\n",
    "if string:\n",
    "    print(\"The string is not empty.\")\n",
    "else:\n",
    "    print(\"The string is empty.\")\n"
   ]
  },
  {
   "cell_type": "raw",
   "id": "38a2d214-a7f0-4692-ab1b-9a98c0ee0864",
   "metadata": {},
   "source": [
    "12. Create a Python program that identifies the type of a triangle (e.g., equilateral, isosceles, or scalene) based on input values using if-else."
   ]
  },
  {
   "cell_type": "code",
   "execution_count": null,
   "id": "bf9eaa82-5a14-4a0b-ab5c-e4617d95441a",
   "metadata": {},
   "outputs": [],
   "source": [
    "side1 = float(input(\"Enter the length of side 1: \"))\n",
    "side2 = float(input(\"Enter the length of side 2: \"))\n",
    "side3 = float(input(\"Enter the length of side 3: \"))\n",
    "\n",
    "if side1 == side2 == side3:\n",
    "    print(\"It is an equilateral triangle.\")\n",
    "elif side1 == side2 or side1 == side3 or side2 == side3:\n",
    "    print(\"It is an isosceles triangle.\")\n",
    "else:\n",
    "    print(\"It is a scalene triangle.\")\n"
   ]
  },
  {
   "cell_type": "raw",
   "id": "e95cb869-9676-4516-9fd7-1bb416cbe88e",
   "metadata": {},
   "source": [
    "13. Write a Python program to determine the day of the week based on a user-provided number using if-else.\n"
   ]
  },
  {
   "cell_type": "code",
   "execution_count": null,
   "id": "bd532cf0-376b-4fb9-bde4-260515ca67ec",
   "metadata": {},
   "outputs": [],
   "source": [
    "day_number = int(input(\"Enter a number (1-7) representing the day of the week: \"))\n",
    "\n",
    "\n",
    "if day_number == 1:\n",
    "    day = \"Sunday\"\n",
    "elif day_number == 2:\n",
    "    day = \"Monday\"\n",
    "elif day_number == 3:\n",
    "    day = \"Tuesday\"\n",
    "elif day_number == 4:\n",
    "    day = \"Wednesday\"\n",
    "elif day_number == 5:\n",
    "    day = \"Thursday\"\n",
    "elif day_number == 6:\n",
    "    day = \"Friday\"\n",
    "elif day_number == 7:\n",
    "    day = \"Saturday\"\n",
    "else:\n",
    "    day = \"Invalid input (Enter a number between 1 and 7)\"\n",
    "\n",
    "print(\"The day corresponding to\", day_number, \"is\", day)\n"
   ]
  },
  {
   "cell_type": "raw",
   "id": "0e4c0263-2293-4172-aa42-ed079c43f55a",
   "metadata": {},
   "source": [
    "14. Create a Python program that checks if a given year is a leap year using both if-else and a function."
   ]
  },
  {
   "cell_type": "code",
   "execution_count": null,
   "id": "47775712-a54f-4d26-a3a7-7ff6988c4629",
   "metadata": {},
   "outputs": [],
   "source": [
    "def is_leap_year(year):\n",
    "    if (year % 4 == 0 and year % 100 != 0) or (year % 400 == 0):\n",
    "        return True\n",
    "    else:\n",
    "        return False\n",
    "\n",
    "year = int(input(\"Enter a year: \"))\n",
    "\n",
    "if is_leap_year(year):\n",
    "    print(year, \"is a leap year.\")\n",
    "else:\n",
    "    print(year, \"is not a leap year.\")\n"
   ]
  },
  {
   "cell_type": "raw",
   "id": "7bda862e-df68-49f1-8714-32e622197fe6",
   "metadata": {},
   "source": [
    "15. How do you use the \"assert\" statement in Python to add debugging checks within if-else blocks?\n"
   ]
  },
  {
   "cell_type": "raw",
   "id": "1d32c0cd-bbf0-40f4-a476-afaf331f0dc9",
   "metadata": {},
   "source": [
    "The 'assert' statement in Python is used to add debugging checks within if-else blocks or other conditional statements. It helps ensure that certain conditions are met during program execution, raising an 'AssertionError' if a condition evaluates to 'False'. It's commonly used to validate assumptions about the state of the program and to detect bugs early in the development process."
   ]
  },
  {
   "cell_type": "raw",
   "id": "ce07bc21-f7a3-4384-8d3f-48a690cd1315",
   "metadata": {},
   "source": [
    "16. Create a Python program that determines the eligibility of a person for a senior citizen discount based on age using if-else."
   ]
  },
  {
   "cell_type": "code",
   "execution_count": null,
   "id": "71d03101-e45a-4313-8009-def15163f48b",
   "metadata": {},
   "outputs": [],
   "source": [
    "age = int(input(\"Enter your age: \"))\n",
    "\n",
    "if age >= 60:\n",
    "    print(\"You are eligible for a senior citizen discount.\")\n",
    "else:\n",
    "    print(\"You are not eligible for a senior citizen discount.\")"
   ]
  },
  {
   "cell_type": "raw",
   "id": "79ce8a07-6ff0-4a89-b45e-f92f66b213ed",
   "metadata": {},
   "source": [
    "17. Write a Python program to categorize a given character as uppercase, lowercase, or neither using if-else."
   ]
  },
  {
   "cell_type": "code",
   "execution_count": 6,
   "id": "1415e6f3-08b7-4023-93b9-7b21a3f1cf7c",
   "metadata": {},
   "outputs": [
    {
     "name": "stdin",
     "output_type": "stream",
     "text": [
      "Enter a character:  4\n"
     ]
    },
    {
     "name": "stdout",
     "output_type": "stream",
     "text": [
      "The character '4' is neither uppercase nor lowercase.\n"
     ]
    }
   ],
   "source": [
    "char = input(\"Enter a character: \")\n",
    "\n",
    "\n",
    "if char.isupper():\n",
    "    print(f\"The character '{char}' is uppercase.\")\n",
    "elif char.islower():\n",
    "    print(f\"The character '{char}' is lowercase.\")\n",
    "else:\n",
    "    print(f\"The character '{char}' is neither uppercase nor lowercase.\")\n"
   ]
  },
  {
   "cell_type": "raw",
   "id": "e1733cf8-9854-406f-b926-f101b2bf0316",
   "metadata": {},
   "source": [
    "18. Write a Python program to determine the roots of a quadratic equation using if-else.\n"
   ]
  },
  {
   "cell_type": "code",
   "execution_count": null,
   "id": "8f42e92c-6324-42d2-9f38-fca3a074dbbe",
   "metadata": {},
   "outputs": [],
   "source": [
    "a = float(input(\"Enter the coefficient of x^2 (a): \"))\n",
    "b = float(input(\"Enter the coefficient of x (b): \"))\n",
    "c = float(input(\"Enter the constant term (c): \"))\n",
    "\n",
    "discriminant = b**2 - 4*a*c\n",
    "\n",
    "if discriminant > 0:\n",
    "   \n",
    "    root1 = (-b + discriminant**0.5) / (2*a)\n",
    "    root2 = (-b - discriminant**0.5) / (2*a)\n",
    "    print(\"The roots are real and distinct:\")\n",
    "    print(\"Root 1:\", root1)\n",
    "    print(\"Root 2:\", root2)\n",
    "elif discriminant == 0:\n",
    "  \n",
    "    root = -b / (2*a)\n",
    "    print(\"The roots are real and repeated:\")\n",
    "    print(\"Root:\", root)\n",
    "else:\n",
    "   \n",
    "    real_part = -b / (2*a)\n",
    "    imaginary_part = (-discriminant)**0.5 / (2*a)\n",
    "    print(\"The roots are complex:\")\n",
    "    print(\"Root 1:\", real_part, \"+\", imaginary_part, \"i\")\n",
    "    print(\"Root 2:\", real_part, \"-\", imaginary_part, \"i\")\n"
   ]
  },
  {
   "cell_type": "raw",
   "id": "a3f391a4-e23d-41e7-b045-ac89194a71ed",
   "metadata": {},
   "source": [
    "19. Create a Python program that checks if a given year is a century year or not using if-else."
   ]
  },
  {
   "cell_type": "code",
   "execution_count": null,
   "id": "94607c4e-abe9-41c0-99e6-3285a5331f49",
   "metadata": {},
   "outputs": [],
   "source": [
    "year = int(input(\"Enter a year: \"))\n",
    "if year % 100 == 0:\n",
    "    print(year, \"is a century year.\")\n",
    "else:\n",
    "    print(year, \"is not a century year.\")"
   ]
  },
  {
   "cell_type": "raw",
   "id": "03acdd9d-c820-440b-976c-ed54cae8daf4",
   "metadata": {},
   "source": [
    "20. Write a Python program to determine if a given number is a perfect square using if-else."
   ]
  },
  {
   "cell_type": "code",
   "execution_count": null,
   "id": "463231ed-e342-4d8e-8a1e-49949ab1e499",
   "metadata": {},
   "outputs": [],
   "source": [
    "number = int(input(\"Enter a number: \"))\n",
    "square_root = number ** 0.5\n",
    "\n",
    "if square_root == int(square_root):\n",
    "    print(number, \"is a perfect square.\")\n",
    "else:\n",
    "    print(number, \"is not a perfect square.\")"
   ]
  },
  {
   "cell_type": "raw",
   "id": "3ea9f4fe-8b64-464e-9706-e4c56b227dac",
   "metadata": {},
   "source": [
    "21. Explain the purpose of the \"continue\" and \"break\" statements within if-else loops."
   ]
  },
  {
   "cell_type": "raw",
   "id": "02b5c54c-4e2c-46a6-b660-52b3815ba1bd",
   "metadata": {},
   "source": [
    "The \"continue\" statement skips the remaining code inside the loop for the current iteration and moves to the next iteration, allowing the loop to continue executing. Conversely, the \"break\" statement terminates the loop prematurely, exiting the loop entirely, even if there are remaining iterations to process."
   ]
  },
  {
   "cell_type": "raw",
   "id": "33959c3d-2bc7-4d23-aadc-1d8d03475373",
   "metadata": {},
   "source": [
    "22. Create a Python program that calculates the BMI (Body Mass Index) of a person based on their weight and height using if-else."
   ]
  },
  {
   "cell_type": "code",
   "execution_count": null,
   "id": "5533908c-d862-4e4f-9074-24db618e2f56",
   "metadata": {},
   "outputs": [],
   "source": [
    "weight = float(input(\"Enter your weight in kilograms: \"))\n",
    "height = float(input(\"Enter your height in meters: \"))\n",
    "\n",
    "bmi = weight / (height ** 2)\n",
    "\n",
    "if bmi < 18.5:\n",
    "    category = \"Underweight\"\n",
    "elif bmi < 25:\n",
    "    category = \"Normal weight\"\n",
    "elif bmi < 30:\n",
    "    category = \"Overweight\"\n",
    "else:\n",
    "    category = \"Obese\"\n",
    "\n",
    "print(\"Your BMI is:\", bmi)\n",
    "print(\"BMI Category:\", category)"
   ]
  },
  {
   "cell_type": "raw",
   "id": "06b87703-fab7-4066-927b-a1e95f82d895",
   "metadata": {},
   "source": [
    "23. How can you use the \"filter()\" function with if-else statements to filter elements from a list?\n"
   ]
  },
  {
   "cell_type": "raw",
   "id": "1660ca56-c983-41f4-be01-4ea075f9f632",
   "metadata": {},
   "source": [
    "We can use the 'filter()' function with a lambda function to create a new list by selectively including elements from the original list based on a specified condition, achieving filtering behavior similar to if-else statements."
   ]
  },
  {
   "cell_type": "raw",
   "id": "befbf730-793d-42a3-bc5e-bde86d41ce19",
   "metadata": {},
   "source": [
    "24. Write a Python program to determine if a given number is prime or not using if-else."
   ]
  },
  {
   "cell_type": "code",
   "execution_count": 7,
   "id": "8312d926-65c4-4ad0-811d-7618ce2bbc2a",
   "metadata": {},
   "outputs": [
    {
     "name": "stdin",
     "output_type": "stream",
     "text": [
      "Enter a number:  8\n"
     ]
    },
    {
     "name": "stdout",
     "output_type": "stream",
     "text": [
      "8 is not a prime number.\n"
     ]
    }
   ],
   "source": [
    "num = int(input(\"Enter a number: \"))\n",
    "if num > 1:\n",
    "    for i in range(2, int(num**0.5) + 1):\n",
    "        if num % i == 0:\n",
    "            print(num, \"is not a prime number.\")\n",
    "            break\n",
    "    else:\n",
    "        print(num, \"is a prime number.\")\n",
    "else:\n",
    "    print(num, \"is not a prime number.\")\n"
   ]
  },
  {
   "cell_type": "raw",
   "id": "750bb11e-0807-441e-81fe-d02710d40627",
   "metadata": {},
   "source": [
    "Map :-"
   ]
  },
  {
   "cell_type": "raw",
   "id": "bf9f31b7-dfca-42e7-93e5-8461f5c13f78",
   "metadata": {},
   "source": [
    "1. Explain the purpose of the `map()` function in Python and provide an example of how it can be used to apply a function to each element of an iterable."
   ]
  },
  {
   "cell_type": "raw",
   "id": "272857c7-3f26-42c5-9704-7a98403e22f5",
   "metadata": {},
   "source": [
    "The 'map()' function in Python applies a specified function to each element in an iterable. It returns an iterator yielding the results of applying the function to each element. It's a concise way to perform element-wise transformations on iterables without explicit loops."
   ]
  },
  {
   "cell_type": "raw",
   "id": "da257d0b-286f-4b1d-ad89-e5ee3d7bc640",
   "metadata": {},
   "source": [
    "2. Write a Python program that uses the `map()` function to square each element of a list of numbers."
   ]
  },
  {
   "cell_type": "code",
   "execution_count": null,
   "id": "c747c151-7923-4543-8290-23fb939ce566",
   "metadata": {},
   "outputs": [],
   "source": [
    "my_list = [1, 2, 3, 4, 5, 6, 7, 8, 9, 10]\n",
    "\n",
    "def square_function(e):\n",
    "    return e ** 2\n",
    "\n",
    "square_list = list(map(square_function, my_list))\n",
    "print(square_list)\n"
   ]
  },
  {
   "cell_type": "raw",
   "id": "485f919c-3ebb-4c70-9ef2-e2e19ffa5d4b",
   "metadata": {},
   "source": [
    "3. How does the `map()` function differ from a list comprehension in Python, and when would you choose one over the other?\n"
   ]
  },
  {
   "cell_type": "raw",
   "id": "11c6a591-974f-4b8d-9a6b-ce62e5802bfd",
   "metadata": {},
   "source": [
    "map() applies a function to each item in an iterable and returns an iterator. List comprehensions create new lists by applying expressions to each item in an iterable, offering readability and simplicity. Use map() for function application and list comprehensions for concise list creation."
   ]
  },
  {
   "cell_type": "raw",
   "id": "9e6d8653-5211-487d-aa30-57a9ccd8c398",
   "metadata": {},
   "source": [
    "4. Create a Python program that uses the `map()` function to convert a list of names to uppercase."
   ]
  },
  {
   "cell_type": "code",
   "execution_count": 1,
   "id": "65dce855-a835-44f5-86fa-0b834ed1490c",
   "metadata": {},
   "outputs": [
    {
     "name": "stdout",
     "output_type": "stream",
     "text": [
      "['AYAN', 'SAYAN', 'DIPANJAN', 'HARDIK']\n"
     ]
    }
   ],
   "source": [
    "name_list = ['ayan','sayan','dipanjan','hardik']\n",
    "def my_function(e):\n",
    "    return e.upper()\n",
    "\n",
    "my_name_list = list(map(my_function,name_list))\n",
    "print(my_name_list)"
   ]
  },
  {
   "cell_type": "raw",
   "id": "7f9d614f-7041-4514-a1c6-acecabbe6777",
   "metadata": {},
   "source": [
    "5. Write a Python program that uses the `map()` function to calculate the length of each word in a list of strings."
   ]
  },
  {
   "cell_type": "code",
   "execution_count": null,
   "id": "792b56b1-4b05-4dfa-bfef-6774568b9c52",
   "metadata": {},
   "outputs": [],
   "source": [
    "name_list = ['ayan','sayan','dipanjan','hardik']\n",
    "def name_length(e):\n",
    "    return len(e)\n",
    "\n",
    "item_length = list (map(name_length,name_list))\n",
    "print(item_length)"
   ]
  },
  {
   "cell_type": "raw",
   "id": "956b942b-78e6-4fdc-8395-504633f80d9c",
   "metadata": {},
   "source": [
    "6. How can you use the `map()` function to apply a custom function to elements of multiple lists simultaneously in Python?"
   ]
  },
  {
   "cell_type": "raw",
   "id": "84868c6c-044e-4a80-bf45-324b2a2ecdd5",
   "metadata": {},
   "source": [
    "We can use the map() function with multiple iterables to apply a custom function simultaneously to elements of those iterables. Pass the custom function and the iterables as arguments to map(), enabling element-wise operations across the provided iterables. Finally, convert the result into a list or iterate over it to access the transformed values."
   ]
  },
  {
   "cell_type": "raw",
   "id": "fcb43a29-c332-4abc-94bb-d55be4be0e8f",
   "metadata": {},
   "source": [
    "7. Create a Python program that uses `map()` to convert a list of temperatures from Celsius to Fahrenheit."
   ]
  },
  {
   "cell_type": "code",
   "execution_count": 1,
   "id": "2a63423c-d01a-4cd6-a33d-8a15c0338b2b",
   "metadata": {},
   "outputs": [
    {
     "name": "stdout",
     "output_type": "stream",
     "text": [
      "[86.0, 104.0, 122.0, 140.0, 158.0, 188.6, -40.0]\n"
     ]
    }
   ],
   "source": [
    "temperature_list_celcius = [30,40,50,60,70,87,-40]\n",
    "def temperature_function(e):\n",
    "    return (e*9)/5+32\n",
    "\n",
    "my_ferenhite_list = list(map(temperature_function,temperature_list_celcius))\n",
    "print(my_ferenhite_list)"
   ]
  },
  {
   "cell_type": "raw",
   "id": "7bf85ad0-3d70-472c-9b37-7c6e53bb69bc",
   "metadata": {},
   "source": [
    "8. Write a Python program that uses the `map()` function to round each element of a list of floating-point numbers to the nearest integer."
   ]
  },
  {
   "cell_type": "code",
   "execution_count": 2,
   "id": "4f8f0407-8b60-43f7-9254-5cbf891d7b56",
   "metadata": {},
   "outputs": [
    {
     "name": "stdout",
     "output_type": "stream",
     "text": [
      "[6, 5, 7, 3, 10]\n"
     ]
    }
   ],
   "source": [
    "number_list = [5.6,5.43,6.78,3.45,9.5]\n",
    "def my_function(e):\n",
    "    return round(e) \n",
    "\n",
    "round_number = list(map(my_function,number_list))\n",
    "print(round_number)"
   ]
  },
  {
   "cell_type": "raw",
   "id": "a9b22910-af9d-4a5e-bd98-bc6bcc8f1d6d",
   "metadata": {},
   "source": [
    "Reduce :-\n"
   ]
  },
  {
   "cell_type": "raw",
   "id": "9f0288cc-800b-48c0-b68b-6a0bed9c32e3",
   "metadata": {},
   "source": [
    "1. What is the `reduce()` function in Python, and what module should you import to use it? Provide an example of its basic usage."
   ]
  },
  {
   "cell_type": "raw",
   "id": "c199b38a-5951-428d-9014-d862f6a39c66",
   "metadata": {},
   "source": [
    "The reduce() function in Python, part of the functools module, cumulatively applies a function to the items of an iterable from left to right, reducing it to a single value. To use it, import reduce from functools, define a function to apply, and pass it along with the iterable to reduce()."
   ]
  },
  {
   "cell_type": "raw",
   "id": "d5e1216f-ca2a-4653-b79c-061165fe7afa",
   "metadata": {},
   "source": [
    "2. Write a Python program that uses the `reduce()` function to find the product of all elements in a list.\n"
   ]
  },
  {
   "cell_type": "code",
   "execution_count": 5,
   "id": "d1683c26-ef1f-4c25-9feb-7e22edd05c6c",
   "metadata": {},
   "outputs": [
    {
     "name": "stdout",
     "output_type": "stream",
     "text": [
      "362880\n"
     ]
    }
   ],
   "source": [
    "from functools import reduce\n",
    "my_list = [1,2,3,4,5,6,7,8,9]\n",
    "def myFunction(x,y):\n",
    " return x*y\n",
    "\n",
    "myProductNumber = reduce(myFunction,my_list)\n",
    "print(myProductNumber)"
   ]
  },
  {
   "cell_type": "raw",
   "id": "569a3c4c-4d0c-4622-9a7c-1cf3108553c0",
   "metadata": {},
   "source": [
    "3. Create a Python program that uses `reduce()` to find the maximum element in a list of numbers."
   ]
  },
  {
   "cell_type": "code",
   "execution_count": 7,
   "id": "7c6f0b9a-5de8-454c-a9de-8f54cb3de2b5",
   "metadata": {},
   "outputs": [
    {
     "name": "stdout",
     "output_type": "stream",
     "text": [
      "Maximum number is: 56\n"
     ]
    }
   ],
   "source": [
    "from functools import reduce\n",
    "my_list = [2,3,4,56,7,8,9,5,6,7]\n",
    "\n",
    "def myFunction (x,y):\n",
    "    \n",
    "    if (y > x) :\n",
    "        return y\n",
    "    else:\n",
    "        return x\n",
    "\n",
    "my_max_Number = reduce(myFunction,my_list)\n",
    "print(\"Maximum number is:\",my_max_Number)"
   ]
  },
  {
   "cell_type": "raw",
   "id": "cf2d00b1-20ff-4b53-9276-37787d23afa1",
   "metadata": {},
   "source": [
    "4. How can you use the `reduce()` function to concatenate a list of strings into a single string?\n"
   ]
  },
  {
   "cell_type": "raw",
   "id": "73d97f6b-b968-49db-897b-5c22809353b0",
   "metadata": {},
   "source": [
    "To concatenate a list of strings into a single string using reduce(), import reduce from functools, define a lambda function that concatenates two strings, and apply reduce() with the lambda function to the string list, resulting in a single concatenated string."
   ]
  },
  {
   "cell_type": "raw",
   "id": "08cb7c3e-4c8c-4877-bf80-6eb28cb9af93",
   "metadata": {},
   "source": [
    "5. Write a Python program that calculates the factorial of a number using the `reduce()` function."
   ]
  },
  {
   "cell_type": "code",
   "execution_count": null,
   "id": "3839fcf8-e275-491f-8406-c9f2b3ddeaca",
   "metadata": {},
   "outputs": [],
   "source": [
    "from functools import reduce\n",
    "my_number = 5\n",
    "def my_function (x,y):\n",
    " return x*y\n",
    "\n",
    "factorial_number = reduce(my_function,range(1,my_number+1))\n",
    "print(factorial_number)"
   ]
  },
  {
   "cell_type": "raw",
   "id": "1612987e-af9b-4598-aa0b-962872bfdc84",
   "metadata": {},
   "source": [
    "6. Create a Python program that uses `reduce()` to find the GCD (Greatest Common Divisor) of a list of numbers.\n"
   ]
  },
  {
   "cell_type": "code",
   "execution_count": 1,
   "id": "1fff694c-1ec5-4798-a161-2220b6c1c705",
   "metadata": {},
   "outputs": [
    {
     "name": "stdout",
     "output_type": "stream",
     "text": [
      "GCD of [24, 36, 48, 60] is: 12\n"
     ]
    }
   ],
   "source": [
    "from functools import reduce\n",
    "from math import gcd  \n",
    "numbers = [24, 36, 48, 60]\n",
    "\n",
    "def find_gcd(x, y):\n",
    "    return gcd(x, y)\n",
    "\n",
    "gcd_of_numbers = reduce(find_gcd, numbers)\n",
    "\n",
    "print(\"GCD of\", numbers, \"is:\", gcd_of_numbers)"
   ]
  },
  {
   "cell_type": "raw",
   "id": "c6f84bd4-2048-427f-85f9-1ca92a5b7092",
   "metadata": {},
   "source": [
    "7.Write a Python program that uses the `reduce()` function to find the sum of the digits of a given number.\n"
   ]
  },
  {
   "cell_type": "code",
   "execution_count": null,
   "id": "b3145d1a-d4ec-4bc3-a6f9-f43c910b7119",
   "metadata": {},
   "outputs": [],
   "source": [
    "from functools import reduce\n",
    "number = 12345\n",
    "number_list = list(str(number))\n",
    "def my_function(x,y):\n",
    "    return int (x) + int (y)\n",
    "\n",
    "digit_sum = reduce(my_function,number_list)\n",
    "print(\"Digit sum is:\",digit_sum)"
   ]
  },
  {
   "cell_type": "raw",
   "id": "ee6ca19b-eb81-40d0-abe7-30c8302f245f",
   "metadata": {},
   "source": [
    "Filter:-"
   ]
  },
  {
   "cell_type": "raw",
   "id": "0a6669d0-93fa-4acb-8c76-546807fbf5c4",
   "metadata": {},
   "source": [
    "1. Explain the purpose of the `filter()` function in Python and provide an example of how it can be used to filter elements from an iterable.\n"
   ]
  },
  {
   "cell_type": "raw",
   "id": "1e88a2a9-7782-4ed4-81e4-20cd633036ed",
   "metadata": {},
   "source": [
    "The filter() function in Python is used to create a new iterable by applying a function to each element in an existing iterable and retaining only those elements for which the function returns True. It returns an iterator containing the filtered elements based on the provided function and iterable. Example: filter(lambda x: x % 2 == 0, [1, 2, 3, 4, 5]) returns [2, 4] filtering out the odd numbers."
   ]
  },
  {
   "cell_type": "raw",
   "id": "8ae91e3b-cb85-4345-9f6d-90f34e624d0d",
   "metadata": {},
   "source": [
    "2. Write a Python program that uses the `filter()` function to select even numbers from a list of integers.\n"
   ]
  },
  {
   "cell_type": "code",
   "execution_count": 1,
   "id": "24e627f6-6616-4dd5-9b60-1aa701a0e412",
   "metadata": {},
   "outputs": [
    {
     "name": "stdout",
     "output_type": "stream",
     "text": [
      "[2, 4, 6, 8, 10]\n"
     ]
    }
   ],
   "source": [
    "my_listy  = [1,2,3,4,5,6,7,8,9,10]\n",
    "my_new_list = []\n",
    "def my_function(x):\n",
    "    if x %2 ==0:\n",
    "        return True\n",
    "\n",
    "dipanjan = list(filter(my_function,my_listy))\n",
    "print(dipanjan)"
   ]
  },
  {
   "cell_type": "raw",
   "id": "52a4abe6-d76f-4bff-8d7e-fb19d426a236",
   "metadata": {},
   "source": [
    "3. Create a Python program that uses the `filter()` function to select names that start with a specific letter from a list of strings."
   ]
  },
  {
   "cell_type": "code",
   "execution_count": 2,
   "id": "e9425eae-2fc3-46b8-9160-e020cca75856",
   "metadata": {},
   "outputs": [
    {
     "name": "stdout",
     "output_type": "stream",
     "text": [
      "['Dipanjan', 'Deva', 'diparjyo']\n"
     ]
    }
   ],
   "source": [
    "name_list = ['Dipanjan', 'Deva', 'Satya', 'Rahul', 'Amit','diparjyo']\n",
    "def my_function(x):\n",
    "  return x[0]==\"d\" or x[0]== \"D\"\n",
    "   \n",
    "  \n",
    "my_list = list(filter(my_function,name_list))\n",
    "print(my_list)"
   ]
  },
  {
   "cell_type": "raw",
   "id": "8e805afa-e8f4-4b86-acf4-527199e3e1fc",
   "metadata": {},
   "source": [
    "4. Write a Python program that uses the `filter()` function to select prime numbers from a list of integers."
   ]
  },
  {
   "cell_type": "code",
   "execution_count": 3,
   "id": "eb3e80c1-7716-4e5a-8cab-49ec6272c11a",
   "metadata": {},
   "outputs": [
    {
     "name": "stdout",
     "output_type": "stream",
     "text": [
      "[2, 3, 5, 7, 11, 13]\n"
     ]
    }
   ],
   "source": [
    "number_list = [1,2,3,4,5,6,7,8,9,10,11,12,13]\n",
    "\n",
    "def my_function(x):\n",
    "    if x<2:\n",
    "      return False\n",
    "    for i in range(2,int(x**0.5) + 1):\n",
    "      if x%i ==0:\n",
    "       return False\n",
    "    return True\n",
    "    \n",
    "prime_number_list = list(filter(my_function,number_list))\n",
    "print(prime_number_list)"
   ]
  },
  {
   "cell_type": "raw",
   "id": "fda97cce-7135-4da9-a181-96bfe9a634d2",
   "metadata": {},
   "source": [
    "5. How can you use the `filter()` function to remove None values from a list in Python?"
   ]
  },
  {
   "cell_type": "code",
   "execution_count": null,
   "id": "9e0cf5ee-8117-46be-831d-9906417d5cab",
   "metadata": {},
   "outputs": [],
   "source": [
    "my_list = [1, None, 2, None, 3, None, 4, None, 5]\n",
    "\n",
    "filtered_list = list(filter(lambda x: x is not None, my_list))\n",
    "print(filtered_list)"
   ]
  },
  {
   "cell_type": "raw",
   "id": "724492a6-dcb8-4d43-8f19-391d9d120eb0",
   "metadata": {},
   "source": [
    "6. Create a Python program that uses `filter()` to select words longer than a certain length from a list of strings."
   ]
  },
  {
   "cell_type": "code",
   "execution_count": 4,
   "id": "968fd39e-65e1-48ac-bab3-9beda187cae5",
   "metadata": {},
   "outputs": [
    {
     "name": "stdout",
     "output_type": "stream",
     "text": [
      "['Dipanjan', 'Satya', 'Rahul', 'diparjyo']\n"
     ]
    }
   ],
   "source": [
    "name_list = ['Dipanjan', 'Deva', 'Satya', 'Rahul', 'Amit','diparjyo']\n",
    "\n",
    "def name_length(x):\n",
    "    if len(x) > 4:\n",
    "        return True\n",
    "    \n",
    "new_list = list(filter(name_length,name_list))\n",
    "\n",
    "print(new_list)"
   ]
  },
  {
   "cell_type": "raw",
   "id": "e9cc4e15-fc1e-4308-875e-2e57da8503dd",
   "metadata": {},
   "source": [
    "7. Write a Python program that uses the `filter()` function to select elements greater than a specified threshold from a list of values."
   ]
  },
  {
   "cell_type": "code",
   "execution_count": 5,
   "id": "f6e878b4-ecf8-4346-92f0-b9247e4551b7",
   "metadata": {},
   "outputs": [
    {
     "name": "stdout",
     "output_type": "stream",
     "text": [
      "[40, 50, 60, 70, 80]\n"
     ]
    }
   ],
   "source": [
    "price_list = [10,20,30,40,50,60,70,80]\n",
    "\n",
    "threesold_value = 35\n",
    "def my_function (x):\n",
    "    if x > threesold_value:\n",
    "        return True\n",
    "    \n",
    "my_list = list(filter(my_function,price_list))\n",
    "print(my_list)"
   ]
  },
  {
   "cell_type": "raw",
   "id": "6d9194d9-029c-44da-ad7b-f597fb316ef3",
   "metadata": {},
   "source": [
    "Recursion:-"
   ]
  },
  {
   "cell_type": "raw",
   "id": "3b7d3465-7f0f-4c00-9aae-6410667c1f78",
   "metadata": {},
   "source": [
    "1. Explain the concept of recursion in Python. How does it differ from iteration?"
   ]
  },
  {
   "cell_type": "raw",
   "id": "19a22ba4-b631-4c41-aa51-f3562731f711",
   "metadata": {},
   "source": [
    "\n",
    "Recursion in Python is a technique where a function calls itself to solve problems by breaking them down into smaller instances. It involves defining base cases to terminate the recursion and making progress towards those base cases with each recursive call. Unlike iteration, which uses loops for repetition, recursion adds frames to the call stack with each recursive call until the base case is reached."
   ]
  },
  {
   "cell_type": "raw",
   "id": "c8799d58-0235-45a1-bd2c-b6983359da88",
   "metadata": {},
   "source": [
    "2. Write a Python program to calculate the factorial of a number using recursion."
   ]
  },
  {
   "cell_type": "code",
   "execution_count": 6,
   "id": "0c1296fb-abc7-4893-8e4a-c780eaab8897",
   "metadata": {},
   "outputs": [
    {
     "name": "stdout",
     "output_type": "stream",
     "text": [
      "120\n"
     ]
    }
   ],
   "source": [
    "number = 5\n",
    "\n",
    "def factorial_number(x):\n",
    " if x == 1:\n",
    "  return 1\n",
    " else:\n",
    "    return x * factorial_number(x-1)\n",
    "\n",
    "my_factorial_number = factorial_number(number)\n",
    "print(my_factorial_number)"
   ]
  },
  {
   "cell_type": "raw",
   "id": "11b669ea-421c-432d-a3cf-14572631ef91",
   "metadata": {},
   "source": [
    "3. Create a recursive Python function to find the nth Fibonacci number.\n"
   ]
  },
  {
   "cell_type": "code",
   "execution_count": 7,
   "id": "c57ad9a0-4603-481f-a587-0ef9957482b9",
   "metadata": {},
   "outputs": [
    {
     "name": "stdin",
     "output_type": "stream",
     "text": [
      "Enter the value of n:  6\n"
     ]
    },
    {
     "name": "stdout",
     "output_type": "stream",
     "text": [
      "The 6th Fibonacci number is: 5\n"
     ]
    }
   ],
   "source": [
    "def fibonacci(n):\n",
    "    if n <= 0:\n",
    "        return \"Invalid input\"\n",
    "    elif n == 1:\n",
    "        return 0\n",
    "    elif n == 2:\n",
    "        return 1\n",
    "    else:\n",
    "        return fibonacci(n - 1) + fibonacci(n - 2)\n",
    "\n",
    "n = int(input(\"Enter the value of n: \"))\n",
    "print(f\"The {n}th Fibonacci number is: {fibonacci(n)}\")\n"
   ]
  },
  {
   "cell_type": "raw",
   "id": "dfa8117c-37a7-47aa-9352-53e5b00b0fd9",
   "metadata": {},
   "source": [
    "4. Write a recursive Python function to calculate the sum of all elements in a list."
   ]
  },
  {
   "cell_type": "code",
   "execution_count": null,
   "id": "1cce9976-d23f-4095-a841-1b9717f400a5",
   "metadata": {},
   "outputs": [],
   "source": [
    "def sum_list_recursive(my_list):\n",
    "    \n",
    "        return my_list[0] + sum_list_recursive(my_list[1:])  \n",
    "\n",
    "\n",
    "number_list = [1, 2, 3, 4, 5, 6, 7, 8, 9]\n",
    "print(\"Sum of elements in my_list:\", sum_list_recursive(number_list))"
   ]
  },
  {
   "cell_type": "raw",
   "id": "6976a77c-2720-4e2b-a1c3-998920b2fd5a",
   "metadata": {},
   "source": [
    "5. How can you prevent a recursive function from running indefinitely, causing a stack overflow error?"
   ]
  },
  {
   "cell_type": "raw",
   "id": "54666cb7-e9b8-4f28-a1da-921575ce6184",
   "metadata": {},
   "source": [
    "To prevent a recursive function from causing a stack overflow error, ensure it has well-defined base cases that terminate the recursion. Additionally, reduce the problem size with each recursive call, ensuring progress towards the base case. Validate input parameters to handle edge cases effectively and test the function with small inputs to verify correct termination before using larger inputs. Consider iterative solutions when applicable, as they may offer better performance and avoid stack overflow risks."
   ]
  },
  {
   "cell_type": "raw",
   "id": "5d85f420-8670-49d0-88d9-89debfe496d5",
   "metadata": {},
   "source": [
    "6. Create a recursive Python function to find the greatest common divisor (GCD) of two numbers using the Euclidean algorithm."
   ]
  },
  {
   "cell_type": "code",
   "execution_count": null,
   "id": "bd81441c-eb82-476d-9ef1-bb371e617600",
   "metadata": {},
   "outputs": [],
   "source": [
    "def gcd(a, b):\n",
    "   \n",
    "    if b == 0:\n",
    "        return a\n",
    "    \n",
    "    else:\n",
    "        return gcd(b, a % b)\n",
    "a = 48\n",
    "b = 18\n",
    "print(\"The GCD of\", a, \"and\", b, \"is:\", gcd(a, b))\n"
   ]
  },
  {
   "cell_type": "raw",
   "id": "35204d58-196d-4286-a5a5-51cfe4acf1fd",
   "metadata": {},
   "source": [
    "7. Write a recursive Python function to reverse a string."
   ]
  },
  {
   "cell_type": "code",
   "execution_count": 8,
   "id": "f3df57c9-e699-415d-ae56-90fd9016b1e6",
   "metadata": {},
   "outputs": [
    {
     "name": "stdout",
     "output_type": "stream",
     "text": [
      "Original string: Hello, World!\n",
      "Reversed string: !dlroW ,olleH\n"
     ]
    }
   ],
   "source": [
    "def reverse_string(s):\n",
    "   \n",
    "    if len(s) <= 1:\n",
    "        return s\n",
    "    return reverse_string(s[1:]) + s[0]\n",
    "\n",
    "input_string = \"Hello, World!\"\n",
    "reversed_string = reverse_string(input_string)\n",
    "print(\"Original string:\", input_string)\n",
    "print(\"Reversed string:\", reversed_string)\n"
   ]
  },
  {
   "cell_type": "raw",
   "id": "ba839018-e132-438e-9238-5228540e00fe",
   "metadata": {},
   "source": [
    "8. Create a recursive Python function to calculate the power of a number (x^n)."
   ]
  },
  {
   "cell_type": "code",
   "execution_count": 9,
   "id": "d74fc6d7-489d-4fe9-becf-dc2ac9bc39ef",
   "metadata": {},
   "outputs": [
    {
     "name": "stdout",
     "output_type": "stream",
     "text": [
      "8\n",
      "0.04\n"
     ]
    }
   ],
   "source": [
    "def power(x, n):\n",
    "    if n == 0:\n",
    "        return 1\n",
    "    elif n < 0:\n",
    "        return 1 / power(x, -n)\n",
    "    else:\n",
    "        temp = power(x, n // 2)\n",
    "        if n % 2 == 0:\n",
    "            return temp * temp\n",
    "        else:\n",
    "            return x * temp * temp\n",
    "\n",
    "print(power(2, 3))  \n",
    "print(power(5, -2)) "
   ]
  },
  {
   "cell_type": "raw",
   "id": "1b28815a-a1a5-463c-8a30-270a88f0425c",
   "metadata": {},
   "source": [
    "9. Write a recursive Python function to find all permutations of a given string."
   ]
  },
  {
   "cell_type": "code",
   "execution_count": 10,
   "id": "1917ffb0-7d05-4d62-8b50-0b90a566d32b",
   "metadata": {},
   "outputs": [
    {
     "name": "stdout",
     "output_type": "stream",
     "text": [
      "['abc', 'acb', 'bac', 'bca', 'cab', 'cba']\n"
     ]
    }
   ],
   "source": [
    "def permute(s):\n",
    "    if len(s) == 1:\n",
    "        return [s]\n",
    "\n",
    "    permutations = []\n",
    "    for i in range(len(s)):\n",
    "        current_char = s[i]\n",
    "        remaining_chars = s[:i] + s[i+1:]\n",
    "        sub_permutations = permute(remaining_chars)\n",
    "        for perm in sub_permutations:\n",
    "            permutations.append(current_char + perm)\n",
    "\n",
    "    return permutations\n",
    "\n",
    "string = \"abc\"\n",
    "print(permute(string))\n"
   ]
  },
  {
   "cell_type": "raw",
   "id": "8547def8-35f4-4ef5-a7d7-251485b6b653",
   "metadata": {},
   "source": [
    "10. Write a recursive Python function to check if a string is a palindrome."
   ]
  },
  {
   "cell_type": "code",
   "execution_count": 11,
   "id": "f27c1e36-79bb-480b-9c07-16b345e90349",
   "metadata": {},
   "outputs": [
    {
     "name": "stdout",
     "output_type": "stream",
     "text": [
      "True\n",
      "True\n",
      "False\n"
     ]
    }
   ],
   "source": [
    "def is_palindrome(s):\n",
    "    if len(s) <= 1:\n",
    "        return True\n",
    "    if s[0] != s[-1]:\n",
    "        return False\n",
    "    return is_palindrome(s[1:-1])\n",
    "\n",
    "print(is_palindrome(\"radar\"))    \n",
    "print(is_palindrome(\"level\"))    \n",
    "print(is_palindrome(\"hello\"))   "
   ]
  },
  {
   "cell_type": "raw",
   "id": "3360b220-c43e-4b52-990b-6397462993a7",
   "metadata": {},
   "source": [
    "11. Create a recursive Python function to generate all possible combinations of a list of elements."
   ]
  },
  {
   "cell_type": "code",
   "execution_count": null,
   "id": "8ed740ae-04a1-48e6-a722-05f68bfd15dd",
   "metadata": {},
   "outputs": [],
   "source": [
    "def combinations(elements):\n",
    "    if len(elements) == 0:\n",
    "        return [[]]\n",
    "    \n",
    "    first_element = elements[0]\n",
    "    remaining_elements = elements[1:]\n",
    "    \n",
    "    combinations_without_first = combinations(remaining_elements)\n",
    "    \n",
    "    result = []\n",
    "    for combination in combinations_without_first:\n",
    "        result.append(combination)\n",
    "        result.append([first_element] + combination)\n",
    "    \n",
    "    return result\n",
    "\n",
    "elements = ['a', 'b', 'c']\n",
    "print(combinations(elements))\n"
   ]
  },
  {
   "cell_type": "raw",
   "id": "f15a58c3-33d9-4c31-b487-570e33c16ae2",
   "metadata": {},
   "source": [
    "\n",
    "Basics of Functions:\n"
   ]
  },
  {
   "cell_type": "raw",
   "id": "2529f0c4-dc06-4cd1-a107-d9de440363ce",
   "metadata": {},
   "source": [
    "1. What is a function in Python, and why is it used?\n"
   ]
  },
  {
   "cell_type": "raw",
   "id": "24029ecd-d302-4ccb-b529-fd44ebe44b03",
   "metadata": {},
   "source": [
    "A function in Python is a block of reusable code that performs a specific task when called. It encapsulates a set of instructions and can accept inputs (arguments) and return outputs. Functions are used to organize code into manageable and reusable pieces, promoting modularity and improving readability. They help in avoiding code duplication, enhancing maintainability, and facilitating the abstraction of complex operations into simpler, reusable units."
   ]
  },
  {
   "cell_type": "raw",
   "id": "cafff6e6-6874-468e-b92d-10fb1e44cf65",
   "metadata": {},
   "source": [
    "2. How do you define a function in Python? Provide an example."
   ]
  },
  {
   "cell_type": "raw",
   "id": "28c370c3-af53-4146-9304-6ab66d7e4367",
   "metadata": {},
   "source": [
    "To create a function in Python, use the def keyword followed by the function name and parentheses containing any parameters. Write the code block with the function's operations inside. Here's an example:\n",
    "def say_hello():\n",
    "    print(\"Hello, world!\")\n",
    "\n",
    "\n",
    "say_hello()\n",
    "\n",
    "In this example, say_hello is the function name, and it prints \"Hello, world!\" when called."
   ]
  },
  {
   "cell_type": "raw",
   "id": "c7e7024f-3859-48d5-856d-2c2799c2d83e",
   "metadata": {},
   "source": [
    "3. Explain the difference between a function definition and a function call.\n"
   ]
  },
  {
   "cell_type": "raw",
   "id": "db56b263-e0cb-4c77-ab50-cc03fe9f14d5",
   "metadata": {},
   "source": [
    "A function definition in Python is the creation of the function itself. It involves using the def keyword followed by the function name, parameters (if any), and a colon : to define the function's behavior.\n",
    "\n",
    "Here's an example of a function definition:\n",
    "\n",
    "def greet(name):\n",
    "    print(\"Hello, \" + name + \"!\")\n",
    "\n",
    "\n",
    "A function call, on the other hand, is when you actually use the defined function in your code by invoking its name and passing any required arguments. It triggers the execution of the code within the function's block.\n",
    "\n",
    "Here's an example of a function call:\n",
    "\n",
    "greet(\"Alice\")\n",
    "\n",
    "In this example, \"Alice\" is the argument passed to the greet function during the function call. The function call causes the message \"Hello, Alice!\" to be printed to the console."
   ]
  },
  {
   "cell_type": "raw",
   "id": "42deea3a-3036-4cf6-a6db-3828091820d0",
   "metadata": {},
   "source": [
    "4. Write a Python program that defines a function to calculate the sum of two numbers and then calls the function."
   ]
  },
  {
   "cell_type": "code",
   "execution_count": 12,
   "id": "003d210f-3b4b-4675-b0b6-34a951b0f8c1",
   "metadata": {},
   "outputs": [
    {
     "name": "stdout",
     "output_type": "stream",
     "text": [
      "The sum of the numbers is: 8\n"
     ]
    }
   ],
   "source": [
    "def calculate_sum(a, b):   \n",
    "    return a + b\n",
    "result = calculate_sum(5, 3)\n",
    "print(\"The sum of the numbers is:\", result)"
   ]
  },
  {
   "cell_type": "raw",
   "id": "b60c37b4-e80e-4b97-bb49-98ab11ca5665",
   "metadata": {},
   "source": [
    "5. What is a function signature, and what information does it typically include?"
   ]
  },
  {
   "cell_type": "raw",
   "id": "63a032aa-d86e-454a-b00d-15dc660441c5",
   "metadata": {},
   "source": [
    "A function signature is a part of a function's declaration that specifies its interface to the rest of the program. It typically includes:\n",
    "\n",
    "Function Name: The name of the function, which uniquely identifies it within the program.\n",
    "Parameters: The types and order of the parameters that the function accepts, if any.\n",
    "Return Type: The type of the value that the function returns, if any.\n",
    "The function signature provides important information about how the function should be called, what inputs it expects, and what output it produces. It serves as a contract between the function and the rest of the program, helping ensure consistency and clarity in the codebase."
   ]
  },
  {
   "cell_type": "raw",
   "id": "35b828bc-1674-4dd7-aa7b-29e91c2b85e7",
   "metadata": {},
   "source": [
    "6. Create a Python function that takes two arguments and returns their product.\n"
   ]
  },
  {
   "cell_type": "code",
   "execution_count": 13,
   "id": "1006aead-0360-4515-8bf7-e7b00eab56f2",
   "metadata": {},
   "outputs": [
    {
     "name": "stdout",
     "output_type": "stream",
     "text": [
      "The product of 5 and 3 is: 15\n"
     ]
    }
   ],
   "source": [
    "def calculate_product(a, b):\n",
    "    return a * b\n",
    "num1 = 5\n",
    "num2 = 3\n",
    "result = calculate_product(num1, num2)\n",
    "print(\"The product of\", num1, \"and\", num2, \"is:\", result)\n"
   ]
  },
  {
   "cell_type": "raw",
   "id": "eded6fff-99a8-4be0-8986-61dec239612d",
   "metadata": {},
   "source": [
    "\n",
    "Function Parameters and Arguments:\n"
   ]
  },
  {
   "cell_type": "raw",
   "id": "f665985a-0181-4e51-b461-5b489a673ff0",
   "metadata": {},
   "source": [
    "1. Explain the concepts of formal parameters and actual arguments in Python functions.\n"
   ]
  },
  {
   "cell_type": "raw",
   "id": "95ba463e-5edb-4dae-8634-f2716b1ad28b",
   "metadata": {},
   "source": [
    "In Python functions, formal parameters are placeholders declared in the function definition, defining the function's signature. Actual arguments are the values supplied to the function when it is called, corresponding to the formal parameters. Formal parameters are variables local to the function's scope, whereas actual arguments can be variables, literals, or expressions. The function uses actual arguments to perform its operations, utilizing the values provided during the function call. Together, formal parameters and actual arguments facilitate the passing of data into and out of functions in Python."
   ]
  },
  {
   "cell_type": "raw",
   "id": "99f320a2-3670-42d1-9c56-a6209d6ad87e",
   "metadata": {},
   "source": [
    "2. Write a Python program that defines a function with default argument values."
   ]
  },
  {
   "cell_type": "code",
   "execution_count": 15,
   "id": "1309a21a-357d-41d0-8c8b-dae50b10a6ae",
   "metadata": {},
   "outputs": [
    {
     "name": "stdout",
     "output_type": "stream",
     "text": [
      "Hello, Guest!\n",
      "Hello, Alice!\n"
     ]
    }
   ],
   "source": [
    "def greet(name=\"Guest\"):     \n",
    "    print(\"Hello, \" + name + \"!\")\n",
    "greet()\n",
    "greet(\"Alice\") "
   ]
  },
  {
   "cell_type": "raw",
   "id": "4aa7a621-6fa6-4db0-829f-bcda06acbe65",
   "metadata": {},
   "source": [
    "3. How do you use keyword arguments in Python function calls? Provide an example"
   ]
  },
  {
   "cell_type": "raw",
   "id": "ed58609f-2b26-44a8-8c41-eaa94e8f0cb3",
   "metadata": {},
   "source": [
    "In Python, keyword arguments allow you to pass values to function parameters by explicitly mentioning the parameter names. This provides clarity and flexibility in function calls, especially for functions with multiple parameters. Here's an example:\n",
    "\n",
    "def greet(name, message):   \n",
    "    print(\"Hello, \" + name + \"! \" + message)\n",
    "\n",
    "greet(name=\"Alice\", message=\"How are you?\")  \n",
    "greet(message=\"Nice to meet you!\", name=\"Bob\")  \n",
    "\n",
    "\n",
    "In the example, name=\"Alice\" and message=\"How are you?\" are keyword arguments passed to the function greet(), specifying the parameter names explicitly. This approach makes the function call more readable and allows arguments to be provided in any order."
   ]
  },
  {
   "cell_type": "raw",
   "id": "18c2bd03-24bd-4e7b-befe-ca6991711aa2",
   "metadata": {},
   "source": [
    "4. Create a Python function that accepts a variable number of arguments and calculates their sum.\n"
   ]
  },
  {
   "cell_type": "code",
   "execution_count": 17,
   "id": "8f380ec4-415d-4702-8abd-d663950aaddf",
   "metadata": {},
   "outputs": [
    {
     "name": "stdout",
     "output_type": "stream",
     "text": [
      "6\n",
      "50\n",
      "16.0\n"
     ]
    }
   ],
   "source": [
    "def calculate_sum(*args):\n",
    "    total = 0\n",
    "    for num in args:\n",
    "        total += num\n",
    "    return total\n",
    "\n",
    "print(calculate_sum(1, 2, 3))  \n",
    "print(calculate_sum(5, 10, 15, 20))  \n",
    "print(calculate_sum(2.5, 3.5, 4.5, 5.5))  \n"
   ]
  },
  {
   "cell_type": "raw",
   "id": "143a99f7-4f6f-4489-98cd-0b88ffa612b4",
   "metadata": {},
   "source": [
    "5. What is the purpose of the `*args` and `**kwargs` syntax in function parameter lists?"
   ]
  },
  {
   "cell_type": "raw",
   "id": "51b3b2a9-b0bb-46c7-9759-7f98d213cb88",
   "metadata": {},
   "source": [
    "The *args and **kwargs syntax in function parameter lists provide flexibility in handling arguments, allowing functions to accept a variable number of positional and keyword arguments, respectively.\n",
    "\n",
    "*args (Arbitrary Positional Arguments):\n",
    "\n",
    "*args allows a function to accept an arbitrary number of positional arguments.\n",
    "The args parameter is a tuple containing all the positional arguments passed to the function.\n",
    "It enables functions to handle varying numbers of arguments without needing to specify them explicitly.\n",
    "**kwargs (Arbitrary Keyword Arguments):\n",
    "\n",
    "**kwargs allows a function to accept an arbitrary number of keyword arguments.\n",
    "The kwargs parameter is a dictionary containing all the keyword arguments passed to the function.\n",
    "It allows functions to handle keyword arguments dynamically, enabling more flexible and generic function definitions.\n",
    "Together, *args and **kwargs empower developers to create functions that can handle a wide range of input scenarios, making code more adaptable and reusable. They are particularly useful when writing utility functions or wrappers where the exact number or names of arguments may vary."
   ]
  },
  {
   "cell_type": "raw",
   "id": "0af827b8-c5b3-40f7-950f-3f114d55effa",
   "metadata": {},
   "source": [
    "Return Values and Scoping:"
   ]
  },
  {
   "cell_type": "raw",
   "id": "828bb7ef-fd75-46b1-be6d-e60c32dd31d5",
   "metadata": {},
   "source": [
    "1. Describe the role of the `return` statement in Python functions and provide examples.\n"
   ]
  },
  {
   "cell_type": "raw",
   "id": "7ab1cca0-e552-4f44-8089-8fc9df797185",
   "metadata": {},
   "source": [
    "The return statement in Python functions is used to exit the function and optionally return a value or multiple values to the caller. It terminates the function's execution when encountered and can pass back data of any type to the code that called the function. return is essential for providing the results of computations, making decisions within functions, and facilitating communication between different parts of a program. Functions can have multiple return statements, but only one is executed per function call. Returning values allows functions to produce output and contribute to the program's overall functionality.\n"
   ]
  },
  {
   "cell_type": "raw",
   "id": "c744a039-feb2-4af1-bf47-4c508ca0db34",
   "metadata": {},
   "source": [
    "2. Explain the concept of variable scope in Python, including local and global variables."
   ]
  },
  {
   "cell_type": "raw",
   "id": "d8275b76-13f7-436a-a645-de2216672d8a",
   "metadata": {},
   "source": [
    "Variable scope in Python defines where variables are accessible. Local variables are defined within functions and can only be accessed inside the function. Global variables are defined outside functions and can be accessed anywhere in the program. Modifying global variables inside functions requires the global keyword. Attempting to access a local variable outside its function results in a NameError. Understanding variable scope is crucial for writing clear and maintainable code in Python."
   ]
  },
  {
   "cell_type": "raw",
   "id": "4fe73f9e-2014-4801-8b32-447661d57369",
   "metadata": {},
   "source": [
    "3. Write a Python program that demonstrates the use of global variables within functions."
   ]
  },
  {
   "cell_type": "code",
   "execution_count": 21,
   "id": "22729bce-631f-4e02-a4eb-ecc51de4bca5",
   "metadata": {},
   "outputs": [
    {
     "name": "stdout",
     "output_type": "stream",
     "text": [
      "Inside the function: global_var = 10\n",
      "Inside the function after modification: global_var = 20\n",
      "Outside the function: global_var = 20\n"
     ]
    }
   ],
   "source": [
    "global_var = 10\n",
    "\n",
    "def my_function():\n",
    "    global global_var\n",
    "    print(\"Inside the function: global_var =\", global_var)  \n",
    "    global_var = 20\n",
    "    print(\"Inside the function after modification: global_var =\", global_var)\n",
    "\n",
    "my_function()\n",
    "print(\"Outside the function: global_var =\", global_var)  \n"
   ]
  },
  {
   "cell_type": "raw",
   "id": "73c1a29e-178a-4ad0-bac4-6de2394389c2",
   "metadata": {},
   "source": [
    "4. Create a Python function that calculates the factorial of a number and returns it.\n"
   ]
  },
  {
   "cell_type": "code",
   "execution_count": null,
   "id": "e38b76db-cd8e-4f4d-9c4d-3d71c9690f83",
   "metadata": {},
   "outputs": [],
   "source": [
    "def factorial(n):\n",
    "    if n == 0 or n == 1:\n",
    "        return 1\n",
    "    else:\n",
    "        return n * factorial(n - 1)\n",
    "\n",
    "num = 5\n",
    "print(\"The factorial of\", num, \"is:\", factorial(num)) \n"
   ]
  },
  {
   "cell_type": "raw",
   "id": "d6aa2866-2f65-4263-8495-2885f30bb6b4",
   "metadata": {},
   "source": [
    "5. How can you access variables defined outside a function from within the function?"
   ]
  },
  {
   "cell_type": "raw",
   "id": "a5ba22d9-5bd7-4342-b642-c4dfcaf4d15a",
   "metadata": {},
   "source": [
    "In Python, variables defined outside a function can be accessed from within the function by using the global keyword to declare the variable as global. This enables the function to read and modify the global variable. Here's an example:\n",
    "\n",
    "global_var = 10 \n",
    "\n",
    "def my_function():\n",
    "    global global_var \n",
    "    print(\"Inside the function: global_var =\", global_var)  \n",
    "    global_var = 20  \n",
    "    print(\"Inside the function after modification: global_var =\", global_var)\n",
    "\n",
    "my_function()\n",
    "print(\"Outside the function: global_var =\", global_var)\n",
    "\n",
    "\n",
    "In this example, global_var is a global variable defined outside the function my_function(). Inside the function, we declare global global_var to indicate that we want to access and modify the global variable global_var. This allows the function to read and update the value of global_var."
   ]
  },
  {
   "cell_type": "raw",
   "id": "a9f633fe-0b1f-4e72-8a65-c2afee5b97f6",
   "metadata": {},
   "source": [
    "Lambda Functions and Higher-Order Functions:\n"
   ]
  },
  {
   "cell_type": "raw",
   "id": "507c952f-a62f-4b96-87ba-52f4af7fe4a5",
   "metadata": {},
   "source": [
    "1. What are lambda functions in Python, and when are they typically used?"
   ]
  },
  {
   "cell_type": "raw",
   "id": "78101463-9911-4807-9734-2f9eff869184",
   "metadata": {},
   "source": [
    "Lambda functions in Python are anonymous functions defined using the lambda keyword. They are used for short-lived, simple operations, such as transforming elements in lists, filtering data, or sorting based on specific criteria. Lambda functions are compact, one-liner expressions ideal for passing as arguments to higher-order functions."
   ]
  },
  {
   "cell_type": "raw",
   "id": "89248721-20cc-4436-a1ce-fb45a126f4fa",
   "metadata": {},
   "source": [
    "2. Write a Python program that uses lambda functions to sort a list of tuples based on the second element."
   ]
  },
  {
   "cell_type": "code",
   "execution_count": 2,
   "id": "452c0c9e-93be-4445-90f7-5fce2f8b89ee",
   "metadata": {},
   "outputs": [
    {
     "name": "stdout",
     "output_type": "stream",
     "text": [
      "Sorted list based on the second element: [(4, 1), (3, 2), (1, 5), (2, 7)]\n"
     ]
    }
   ],
   "source": [
    "data = [(1, 5), (3, 2), (2, 7), (4, 1)]\n",
    "\n",
    "sorted_data = sorted(data, key=lambda x: x[1])\n",
    "\n",
    "print(\"Sorted list based on the second element:\",sorted_data)\n",
    "\n"
   ]
  },
  {
   "cell_type": "raw",
   "id": "d806eb2b-7b3a-4fdf-acf6-6b2281ade128",
   "metadata": {},
   "source": [
    "3. Explain the concept of higher-order functions in Python, and provide an example.\n"
   ]
  },
  {
   "cell_type": "raw",
   "id": "62fd4fbd-3f30-4ea9-888d-950a0747b32c",
   "metadata": {},
   "source": [
    "Higher-order functions in Python can take other functions as arguments or return functions as results, enabling dynamic behavior. For instance, a function like apply_operation() can accept functions like add() or multiply() to perform different operations on operands. This flexibility allows for code reuse, composability, and abstraction in Python programming."
   ]
  },
  {
   "cell_type": "raw",
   "id": "ac478b20-1ec8-4b9d-a57c-5df5e4e2c9ad",
   "metadata": {},
   "source": [
    "4. Create a Python function that takes a list of numbers and a function as arguments, applying the function to each element in the list.\n",
    " "
   ]
  },
  {
   "cell_type": "code",
   "execution_count": 3,
   "id": "a72f3c02-24ad-4fc7-b713-3c73c35d882e",
   "metadata": {},
   "outputs": [
    {
     "name": "stdout",
     "output_type": "stream",
     "text": [
      "Original list: [1, 2, 3, 4, 5]\n",
      "List after applying square function: [1, 4, 9, 16, 25]\n",
      "List after applying double function: [2, 4, 6, 8, 10]\n"
     ]
    }
   ],
   "source": [
    "def apply_function_to_list(numbers, func):\n",
    "    result = []\n",
    "    for num in numbers:\n",
    "        result.append(func(num))\n",
    "    return result\n",
    "\n",
    "def square(x):\n",
    "    return x ** 2\n",
    "\n",
    "def double(x):\n",
    "    return 2 * x\n",
    "\n",
    "\n",
    "numbers = [1, 2, 3, 4, 5]\n",
    "\n",
    "result_square = apply_function_to_list(numbers, square)\n",
    "result_double = apply_function_to_list(numbers, double)\n",
    "\n",
    "print(\"Original list:\", numbers)\n",
    "print(\"List after applying square function:\", result_square)\n",
    "print(\"List after applying double function:\", result_double)\n"
   ]
  },
  {
   "cell_type": "raw",
   "id": "f80d8286-a4e8-4d93-9be3-023de2b7f3a9",
   "metadata": {},
   "source": [
    " Built-in Functions:\n"
   ]
  },
  {
   "cell_type": "raw",
   "id": "cbb13181-bd6b-415e-b594-0eab291aa33d",
   "metadata": {},
   "source": [
    "1. Describe the role of built-in functions like `len()`, `max()`, and `min()` in Python.\n"
   ]
  },
  {
   "cell_type": "raw",
   "id": "dd7135fe-9f2f-4c45-94e1-05e4e40923fe",
   "metadata": {},
   "source": [
    "Built-in functions like len(), max(), and min() play essential roles in Python for performing common operations on data structures and collections.\n",
    "\n",
    "len() Function:\n",
    "\n",
    "len() returns the length or the number of elements in a sequence or collection.\n",
    "It can be applied to strings, lists, tuples, dictionaries, sets, and other iterable objects.\n",
    "Usage: len(sequence)\n",
    "max() Function:\n",
    "\n",
    "max() returns the largest element from the given iterable or among multiple arguments.\n",
    "It can be used with numeric values, strings, and other comparable types.\n",
    "Usage: max(iterable) or max(arg1, arg2, ...)\n",
    "min() Function:\n",
    "\n",
    "min() returns the smallest element from the given iterable or among multiple arguments.\n",
    "Similar to max(), it works with numeric values, strings, and other comparable types.\n",
    "Usage: min(iterable) or min(arg1, arg2, ...)\n",
    "These built-in functions provide convenient ways to perform common operations such as finding the length of a sequence, determining the maximum or minimum value in a collection, and facilitating comparisons between elements in Python. They contribute to code readability, efficiency, and expressiveness when working with data in Python programs."
   ]
  },
  {
   "cell_type": "raw",
   "id": "a2b5ef1d-7241-44da-b3e4-05380be158dc",
   "metadata": {},
   "source": [
    "2. Write a Python program that uses the `map()` function to apply a function to each element of a list."
   ]
  },
  {
   "cell_type": "code",
   "execution_count": 4,
   "id": "67d236fe-88c6-4d97-894a-594cc55410a9",
   "metadata": {},
   "outputs": [
    {
     "name": "stdout",
     "output_type": "stream",
     "text": [
      "Original list: [1, 2, 3, 4, 5]\n",
      "List after applying square function: [1, 4, 9, 16, 25]\n"
     ]
    }
   ],
   "source": [
    "def square(x):\n",
    "    return x ** 2\n",
    "numbers = [1, 2, 3, 4, 5]\n",
    "squared_numbers = list(map(square, numbers))\n",
    "print(\"Original list:\", numbers)\n",
    "print(\"List after applying square function:\", squared_numbers)\n"
   ]
  },
  {
   "cell_type": "raw",
   "id": "dbd95f3e-737c-46d7-b28e-e6c2ff00d06c",
   "metadata": {},
   "source": [
    "3. How does the `filter()` function work in Python, and when would you use it?\n"
   ]
  },
  {
   "cell_type": "raw",
   "id": "acdd2b8d-3e36-4953-b32b-121b724d238b",
   "metadata": {},
   "source": [
    "The filter() function in Python is used to selectively extract elements from an iterable based on a specified condition. It takes two arguments: a function defining the condition and an iterable. The function is applied to each element of the iterable, and only elements for which the function returns True are included in the output iterator. filter() is useful for streamlining code when filtering elements from lists, tuples, or other iterables based on specific criteria. It helps enhance code readability and maintainability by avoiding explicit loops and conditional statements."
   ]
  },
  {
   "cell_type": "raw",
   "id": "df64faaa-ba33-455f-9e71-55e1f8e4dfc2",
   "metadata": {},
   "source": [
    "4. Create a Python program that uses the `reduce()` function to find the product of all elements in a list."
   ]
  },
  {
   "cell_type": "code",
   "execution_count": 5,
   "id": "d97a27a8-d1f1-431e-bdf9-9a5e561c4e1a",
   "metadata": {},
   "outputs": [
    {
     "name": "stdout",
     "output_type": "stream",
     "text": [
      "Product of all elements in the list: 120\n"
     ]
    }
   ],
   "source": [
    "from functools import reduce\n",
    "def multiply(x, y):\n",
    "    return x * y\n",
    "numbers = [1, 2, 3, 4, 5]\n",
    "\n",
    "product = reduce(multiply, numbers)\n",
    "\n",
    "print(\"Product of all elements in the list:\", product)"
   ]
  },
  {
   "cell_type": "raw",
   "id": "fe1b128d-dd11-4952-abef-9f1b8e6eb933",
   "metadata": {},
   "source": [
    " Function Documentation and Best Practices:"
   ]
  },
  {
   "cell_type": "raw",
   "id": "4f7f447e-79b7-43ac-aa02-ce6a4c9596b0",
   "metadata": {},
   "source": [
    "1. Explain the purpose of docstrings in Python functions and how to write them."
   ]
  },
  {
   "cell_type": "raw",
   "id": "3c4ef979-cc5d-4908-89a3-eb02cf98e6e7",
   "metadata": {},
   "source": [
    "Docstrings in Python functions provide documentation for developers. They encapsulate information about the function's purpose, parameters, and return values. Using triple quotes at the beginning of a function, docstrings clarify code functionality. They serve as a reference for understanding and maintaining the codebase. Accessible via the __doc__ attribute, docstrings facilitate code readability and collaboration."
   ]
  },
  {
   "cell_type": "raw",
   "id": "1ef57eb4-26c0-4af6-8437-344bb4311fe9",
   "metadata": {},
   "source": [
    "2. Describe some best practices for naming functions and variables in Python, including naming conventions and guidelines.\n"
   ]
  },
  {
   "cell_type": "raw",
   "id": "3be78cb3-bec0-44da-b289-c8f3e233eda9",
   "metadata": {},
   "source": [
    "Following Python naming conventions: use lowercase with underscores for variables and lowercase with words separated by underscores for functions. Choose descriptive names that reflect the purpose and functionality of the variable or function. Be consistent with naming styles and avoid ambiguous abbreviations. Use verb-noun pairing for functions to indicate actions performed. Avoid shadowing built-in names and prioritize readability and clarity in naming."
   ]
  }
 ],
 "metadata": {
  "kernelspec": {
   "display_name": "Python 3 (ipykernel)",
   "language": "python",
   "name": "python3"
  },
  "language_info": {
   "codemirror_mode": {
    "name": "ipython",
    "version": 3
   },
   "file_extension": ".py",
   "mimetype": "text/x-python",
   "name": "python",
   "nbconvert_exporter": "python",
   "pygments_lexer": "ipython3",
   "version": "3.10.8"
  }
 },
 "nbformat": 4,
 "nbformat_minor": 5
}
